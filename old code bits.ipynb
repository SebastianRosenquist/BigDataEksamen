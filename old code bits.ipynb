{
 "cells": [
  {
   "cell_type": "markdown",
   "source": [
    "This is a list of the vocabulary words that occur at least twice in the text data."
   ],
   "metadata": {
    "collapsed": false
   }
  },
  {
   "cell_type": "code",
   "execution_count": null,
   "outputs": [],
   "source": [
    "from sklearn.feature_extraction.text import TfidfVectorizer\n",
    "\n",
    "# Create a tf-idf vectorizer object. We can adjust the min_df parameter to specify a different minimum frequency threshold.\n",
    "vectorizer = TfidfVectorizer(min_df=2)\n",
    "\n",
    "# Fit the vectorizer to the text data\n",
    "vectorizer.fit(df['title'])\n",
    "\n",
    "# Get the feature names (vocabulary words)\n",
    "vocab = vectorizer.get_feature_names()\n",
    "\n",
    "# Print the vocabulary words\n",
    "print(vocab)"
   ],
   "metadata": {
    "collapsed": false
   }
  }
 ],
 "metadata": {
  "kernelspec": {
   "display_name": "Python 3",
   "language": "python",
   "name": "python3"
  },
  "language_info": {
   "codemirror_mode": {
    "name": "ipython",
    "version": 2
   },
   "file_extension": ".py",
   "mimetype": "text/x-python",
   "name": "python",
   "nbconvert_exporter": "python",
   "pygments_lexer": "ipython2",
   "version": "2.7.6"
  }
 },
 "nbformat": 4,
 "nbformat_minor": 0
}
